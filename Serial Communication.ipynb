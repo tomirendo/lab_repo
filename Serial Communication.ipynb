{
 "cells": [
  {
   "cell_type": "code",
   "execution_count": 3,
   "metadata": {
    "collapsed": true
   },
   "outputs": [],
   "source": [
    "def run_operation(serial_device, op = \"NOP\"):\n",
    "    if isinstance(op, str):\n",
    "        op = op.encode()\n",
    "    serial_device.write(op + b\"\\r\")\n",
    "    return serial_device.readline().decode()"
   ]
  },
  {
   "cell_type": "code",
   "execution_count": 4,
   "metadata": {
    "collapsed": true
   },
   "outputs": [],
   "source": [
    "operators = [\"NOP\", \n",
    "             \"SET\", \n",
    "             \"GET_ADC\", \n",
    "             \"RAMP1\", \n",
    "             \"RAMP2\", \n",
    "             \"BUFFER_RAMP\", \n",
    "             \"RESET\", \"TALK\", \"CONVERT_TIME\", \n",
    "             \"*IDN?\", \"*RDY?\"]"
   ]
  },
  {
   "cell_type": "code",
   "execution_count": null,
   "metadata": {
    "collapsed": false
   },
   "outputs": [
    {
     "name": "stdout",
     "output_type": "stream",
     "text": [
      "Begin serial with 115200\n",
      "\n",
      "NOP\n",
      "NOP\r\n",
      "\n",
      "SET\n"
     ]
    }
   ],
   "source": [
    "from serial import Serial\n",
    "with Serial(\"/dev/tty.usbmodem1411\",115200) as ser:\n",
    "    ser.flush()\n",
    "    print(ser.readline().decode())\n",
    "    \n",
    "    for i in operators: \n",
    "        print(i)\n",
    "        print(run_operation(ser, i))\n",
    "    "
   ]
  },
  {
   "cell_type": "code",
   "execution_count": null,
   "metadata": {
    "collapsed": true
   },
   "outputs": [],
   "source": []
  },
  {
   "cell_type": "code",
   "execution_count": null,
   "metadata": {
    "collapsed": true
   },
   "outputs": [],
   "source": []
  },
  {
   "cell_type": "code",
   "execution_count": null,
   "metadata": {
    "collapsed": true
   },
   "outputs": [],
   "source": []
  }
 ],
 "metadata": {
  "kernelspec": {
   "display_name": "Python 3",
   "language": "python",
   "name": "python3"
  },
  "language_info": {
   "codemirror_mode": {
    "name": "ipython",
    "version": 3
   },
   "file_extension": ".py",
   "mimetype": "text/x-python",
   "name": "python",
   "nbconvert_exporter": "python",
   "pygments_lexer": "ipython3",
   "version": "3.5.0"
  }
 },
 "nbformat": 4,
 "nbformat_minor": 0
}
