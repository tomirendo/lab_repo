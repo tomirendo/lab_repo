{
 "cells": [
  {
   "cell_type": "code",
   "execution_count": 4,
   "metadata": {
    "collapsed": false
   },
   "outputs": [],
   "source": [
    "from myserial import *    "
   ]
  },
  {
   "cell_type": "code",
   "execution_count": 8,
   "metadata": {
    "collapsed": false
   },
   "outputs": [
    {
     "name": "stdout",
     "output_type": "stream",
     "text": [
      "\n",
      "\n",
      "OP *RDY? returned READY\r\n",
      "\n",
      "OP SET,5,2 returned DAC 5 UPDATED TO 0.0000V\r\n",
      "\n",
      "OP RAMP1,2,-8.5,4.8,1000,30 returned RAMP_FINISHED\r\n",
      "\n"
     ]
    }
   ],
   "source": [
    "with Serial(\"/dev/tty.usbmodem1411\",115200) as ser:\n",
    "    init_serial(ser)\n",
    "    run_operation(ser, \"*RDY?\", ver=True)\n",
    "    run_operation(ser, \"SET,5,2\", ver=True)\n",
    "    #run_operation(ser, \"GET_ADC,5\", ver=True)\n",
    "    run_operation(ser, \"RAMP1,2,-8.5,4.8,1000,30\", ver=True)\n",
    " "
   ]
  },
  {
   "cell_type": "code",
   "execution_count": null,
   "metadata": {
    "collapsed": true
   },
   "outputs": [],
   "source": []
  },
  {
   "cell_type": "code",
   "execution_count": null,
   "metadata": {
    "collapsed": true
   },
   "outputs": [],
   "source": []
  },
  {
   "cell_type": "code",
   "execution_count": null,
   "metadata": {
    "collapsed": true
   },
   "outputs": [],
   "source": []
  },
  {
   "cell_type": "code",
   "execution_count": null,
   "metadata": {
    "collapsed": true
   },
   "outputs": [],
   "source": []
  },
  {
   "cell_type": "markdown",
   "metadata": {
    "collapsed": true
   },
   "source": [
    "את הפרוטוקול אפשר למצוא באתר הזה:\n",
    "\n",
    "http://opendacs.com/dac-adc-homepage/how-to-communicate-with-the-dac-adc/"
   ]
  },
  {
   "cell_type": "code",
   "execution_count": null,
   "metadata": {
    "collapsed": true
   },
   "outputs": [],
   "source": []
  }
 ],
 "metadata": {
  "kernelspec": {
   "display_name": "Python 3",
   "language": "python",
   "name": "python3"
  },
  "language_info": {
   "codemirror_mode": {
    "name": "ipython",
    "version": 3
   },
   "file_extension": ".py",
   "mimetype": "text/x-python",
   "name": "python",
   "nbconvert_exporter": "python",
   "pygments_lexer": "ipython3",
   "version": "3.5.0"
  }
 },
 "nbformat": 4,
 "nbformat_minor": 0
}
