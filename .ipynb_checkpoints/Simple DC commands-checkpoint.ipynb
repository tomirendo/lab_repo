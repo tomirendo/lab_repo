{
 "cells": [
  {
   "cell_type": "code",
   "execution_count": 2,
   "metadata": {
    "collapsed": false,
    "scrolled": false
   },
   "outputs": [
    {
     "name": "stdout",
     "output_type": "stream",
     "text": [
      "ready\n"
     ]
    }
   ],
   "source": [
    "from myserial import *    \n",
    "from time import sleep\n",
    "import pandas as pd\n",
    "duck_parameters = (\"COM6\",115200)\n",
    "%matplotlib inline\n",
    "print(\"ready\")"
   ]
  },
  {
   "cell_type": "code",
   "execution_count": 2,
   "metadata": {
    "collapsed": false,
    "scrolled": true
   },
   "outputs": [
    {
     "name": "stdout",
     "output_type": "stream",
     "text": [
      "\n",
      "\n",
      "OP *RDY? returned READY\r\n",
      "\n"
     ]
    }
   ],
   "source": [
    "with Duck(*duck_parameters) as duck:\n",
    "    duck.run(\"*RDY?\", verbose=True)"
   ]
  },
  {
   "cell_type": "code",
   "execution_count": null,
   "metadata": {
    "collapsed": false
   },
   "outputs": [
    {
     "name": "stdout",
     "output_type": "stream",
     "text": [
      "\n",
      "\n",
      "OP SINE,2,0,0,17,80 returned Sine with read is running real freq : 17.01\r\n",
      "\n"
     ]
    }
   ],
   "source": [
    "with Duck(*duck_parameters) as duck:\n",
    "    duck.run(\"SINE,2,0,0,17,80\", verbose=True)\n",
    "    duck.run(\"RF 1\")"
   ]
  },
  {
   "cell_type": "markdown",
   "metadata": {},
   "source": [
    "# "
   ]
  }
 ],
 "metadata": {
  "kernelspec": {
   "display_name": "Python 3",
   "language": "python",
   "name": "python3"
  },
  "language_info": {
   "codemirror_mode": {
    "name": "ipython",
    "version": 3
   },
   "file_extension": ".py",
   "mimetype": "text/x-python",
   "name": "python",
   "nbconvert_exporter": "python",
   "pygments_lexer": "ipython3",
   "version": "3.5.2"
  }
 },
 "nbformat": 4,
 "nbformat_minor": 1
}
