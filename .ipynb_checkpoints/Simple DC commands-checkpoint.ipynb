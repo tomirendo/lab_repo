{
 "cells": [
  {
   "cell_type": "code",
   "execution_count": 19,
   "metadata": {
    "collapsed": false,
    "scrolled": false
   },
   "outputs": [
    {
     "name": "stdout",
     "output_type": "stream",
     "text": [
      "ready\n"
     ]
    }
   ],
   "source": [
    "from myserial import *    \n",
    "from time import sleep\n",
    "import pandas as pd\n",
    "duck_parameters = (\"/dev/tty.usbmodem1421\",115200)\n",
    "%matplotlib inline\n",
    "print(\"ready\")"
   ]
  },
  {
   "cell_type": "code",
   "execution_count": 27,
   "metadata": {
    "collapsed": false,
    "scrolled": true
   },
   "outputs": [
    {
     "name": "stdout",
     "output_type": "stream",
     "text": [
      "\n",
      "\n",
      "OP *RDY? returned READY\r\n",
      "\n"
     ]
    }
   ],
   "source": [
    "with Duck(*duck_parameters) as duck:\n",
    "    duck.run(\"*RDY?\", verbose=True)"
   ]
  },
  {
   "cell_type": "code",
   "execution_count": null,
   "metadata": {
    "collapsed": false
   },
   "outputs": [
    {
     "name": "stdout",
     "output_type": "stream",
     "text": [
      "\n",
      "\n",
      "OP SINE,2,17,.5 returned Sine with read is running real freq : 2.00\r\n",
      "\n"
     ]
    }
   ],
   "source": [
    "with Duck(*duck_parameters) as duck:\n",
    "    duck.run(\"SINE,2,17,.5\", verbose=True)\n",
    "    #duck.run(\"AC 1:3\", read=False)\n",
    "    #duck.run(\"AC 0.03:2\", read=False)\n",
    "    #duck.run(\"AC 0.23:1\", read=False)\n",
    "    #duck.run(\"AC 1.4:0\", read=False)\n",
    "    #duck.run(\"SINE,2,17,.5\", verbose=True)"
   ]
  },
  {
   "cell_type": "code",
   "execution_count": 38,
   "metadata": {
    "collapsed": false
   },
   "outputs": [
    {
     "name": "stdout",
     "output_type": "stream",
     "text": [
      "\n",
      "\n",
      "OP SET,2,-4 returned DAC 2 UPDATED TO -4.0002V\n",
      "\n",
      "OP SET,1,-3 returned DAC 1 UPDATED TO -3.0002V\n",
      "\n",
      "OP SET,0,-2 returned DAC 0 UPDATED TO -2.0001V\n",
      "\n",
      "OP SET,3,-1 returned DAC 3 UPDATED TO -1.0001V\n",
      "\n",
      "OP SET,2,1 returned DAC 2 UPDATED TO 0.9998V\n",
      "\n"
     ]
    }
   ],
   "source": [
    "with Duck(*duck_parameters) as duck:\n",
    "    duck.run(\"SET,2,-4\",verbose=True)\n",
    "    sleep(1)\n",
    "    duck.run(\"SET,1,-3\",verbose=True)\n",
    "    sleep(1)\n",
    "    duck.run(\"SET,0,-2\",verbose=True)\n",
    "    sleep(1)\n",
    "    duck.run(\"SET,3,-1\",verbose=True)\n",
    "    sleep(1)\n",
    "    duck.run(\"SET,2,1\",verbose=True)"
   ]
  },
  {
   "cell_type": "code",
   "execution_count": null,
   "metadata": {
    "collapsed": true
   },
   "outputs": [],
   "source": []
  }
 ],
 "metadata": {
  "kernelspec": {
   "display_name": "Python 3",
   "language": "python",
   "name": "python3"
  },
  "language_info": {
   "codemirror_mode": {
    "name": "ipython",
    "version": 3
   },
   "file_extension": ".py",
   "mimetype": "text/x-python",
   "name": "python",
   "nbconvert_exporter": "python",
   "pygments_lexer": "ipython3",
   "version": "3.5.0"
  }
 },
 "nbformat": 4,
 "nbformat_minor": 1
}
